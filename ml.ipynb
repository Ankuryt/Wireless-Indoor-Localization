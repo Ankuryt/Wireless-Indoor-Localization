{
 "cells": [
  {
   "cell_type": "code",
   "execution_count": 1,
   "metadata": {},
   "outputs": [
    {
     "name": "stdout",
     "output_type": "stream",
     "text": [
      "   AP1  AP2  AP3  AP4  AP5  AP6  AP7  Location\n",
      "0  -64  -56  -61  -66  -71  -82  -81         1\n",
      "1  -68  -57  -61  -65  -71  -85  -85         1\n",
      "2  -63  -60  -60  -67  -76  -85  -84         1\n",
      "3  -61  -60  -68  -62  -77  -90  -80         1\n",
      "4  -63  -65  -60  -63  -77  -81  -87         1\n"
     ]
    }
   ],
   "source": [
    "import pandas as pd\n",
    "\n",
    "# Load the dataset from UCI repository\n",
    "url = 'https://archive.ics.uci.edu/ml/machine-learning-databases/00422/wifi_localization.txt'\n",
    "df = pd.read_csv(url, header=None, delimiter='\\t')\n",
    "\n",
    "# Rename the columns\n",
    "df.columns = ['AP1', 'AP2', 'AP3', 'AP4', 'AP5', 'AP6', 'AP7', 'Location']\n",
    "\n",
    "# Print the first few rows of the dataset\n",
    "print(df.head())\n"
   ]
  }
 ],
 "metadata": {
  "kernelspec": {
   "display_name": "Python 3",
   "language": "python",
   "name": "python3"
  },
  "language_info": {
   "codemirror_mode": {
    "name": "ipython",
    "version": 3
   },
   "file_extension": ".py",
   "mimetype": "text/x-python",
   "name": "python",
   "nbconvert_exporter": "python",
   "pygments_lexer": "ipython3",
   "version": "3.10.6"
  },
  "orig_nbformat": 4,
  "vscode": {
   "interpreter": {
    "hash": "52634da84371cba311ea128a5ea7cdc41ff074b781779e754b270ff9f8153cee"
   }
  }
 },
 "nbformat": 4,
 "nbformat_minor": 2
}
